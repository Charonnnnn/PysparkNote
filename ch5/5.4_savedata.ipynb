{
 "cells": [
  {
   "cell_type": "code",
   "execution_count": 1,
   "metadata": {},
   "outputs": [],
   "source": [
    "from __future__ import print_function, division\n",
    "from pyspark import SparkConf, SparkContext\n",
    "from pyspark.sql import SparkSession"
   ]
  },
  {
   "cell_type": "code",
   "execution_count": 2,
   "metadata": {},
   "outputs": [],
   "source": [
    "# 启动 Spark （如果你已经启动就不需要）\n",
    "spark = SparkSession.builder.master(\"local[2]\") \\\n",
    "   .appName(\"test\") \\\n",
    "   .enableHiveSupport() \\\n",
    "   .getOrCreate()\n",
    "\n",
    "sc = spark.sparkContext"
   ]
  },
  {
   "cell_type": "markdown",
   "metadata": {},
   "source": [
    "## save as csv format"
   ]
  },
  {
   "cell_type": "code",
   "execution_count": 1,
   "metadata": {},
   "outputs": [],
   "source": [
    "df_csv = spark.read.csv(\"../data/ratings.csv\", header=True)"
   ]
  },
  {
   "cell_type": "code",
   "execution_count": 2,
   "metadata": {},
   "outputs": [
    {
     "name": "stdout",
     "output_type": "stream",
     "text": [
      "+------+-------+------+----------+\n",
      "|userid|movieid|rating|        ts|\n",
      "+------+-------+------+----------+\n",
      "|     3|   6539|     5|1133571238|\n",
      "|     3|   7153|     4|1133571171|\n",
      "|     3|   7155|   3.5|1164885564|\n",
      "|     3|   8529|     4|1136075616|\n",
      "|     3|   8533|   4.5|1136418593|\n",
      "|     3|   8783|     5|1136075857|\n",
      "|     3|  27821|   4.5|1136418616|\n",
      "|     3|  33750|   3.5|1164885688|\n",
      "|     3|  33750|   3.5|1164887688|\n",
      "|     3|    344|  null| 844416742|\n",
      "|     4|     21|     3| 844416980|\n",
      "|     4|     34|     5| 844416936|\n",
      "|     4|     39|     3| 844417037|\n",
      "|     4|    110|     5| 844416866|\n",
      "|     4|    150|     5| 844416656|\n",
      "|     4|    153|     5| 844416699|\n",
      "|     4|    161|     5| 844416835|\n",
      "|     4|    165|     5| 844416699|\n",
      "|     4|    208|     3| 844416866|\n",
      "|     4|    231|     1| 844416742|\n",
      "+------+-------+------+----------+\n",
      "only showing top 20 rows\n",
      "\n"
     ]
    }
   ],
   "source": [
    "df_csv.show()"
   ]
  },
  {
   "cell_type": "code",
   "execution_count": 5,
   "metadata": {},
   "outputs": [],
   "source": [
    "df_csv.write.parquet('../output/ratings_v1.parquet')"
   ]
  },
  {
   "cell_type": "code",
   "execution_count": 6,
   "metadata": {},
   "outputs": [],
   "source": [
    "df_csv.write.csv(\"../output/ratings_1.csv\", header=True, mode='overwrite')  # mode=\"error\"  | mode=\"append\""
   ]
  },
  {
   "cell_type": "code",
   "execution_count": 7,
   "metadata": {},
   "outputs": [
    {
     "name": "stdout",
     "output_type": "stream",
     "text": [
      "total 4.0K\r\n",
      "-rw-r--r--. 1 root root 561 Nov  9 15:39 part-00000-18cd677a-f297-48e9-ae27-ec64786b4802-c000.csv\r\n",
      "-rw-r--r--. 1 root root   0 Nov  9 15:39 _SUCCESS\r\n"
     ]
    }
   ],
   "source": [
    "!ls -lh ../output/ratings_1.csv/"
   ]
  },
  {
   "cell_type": "code",
   "execution_count": 8,
   "metadata": {},
   "outputs": [
    {
     "name": "stdout",
     "output_type": "stream",
     "text": [
      "part-00000-18cd677a-f297-48e9-ae27-ec64786b4802-c000.csv  _SUCCESS\r\n"
     ]
    }
   ],
   "source": [
    "!ls ../output/ratings_1.csv"
   ]
  },
  {
   "cell_type": "code",
   "execution_count": 10,
   "metadata": {},
   "outputs": [
    {
     "name": "stdout",
     "output_type": "stream",
     "text": [
      "userid,movieid,rating,ts\r\n",
      "3,6539,5,1133571238\r\n",
      "3,7153,4,1133571171\r\n",
      "3,7155,3.5,1164885564\r\n",
      "3,8529,4,1136075616\r\n",
      "3,8533,4.5,1136418593\r\n",
      "3,8783,5,1136075857\r\n",
      "3,27821,4.5,1136418616\r\n",
      "3,33750,3.5,1164885688\r\n",
      "3,33750,3.5,1164887688\r\n"
     ]
    }
   ],
   "source": [
    "!head ../output/ratings_1.csv/part-00000-18cd677a-f297-48e9-ae27-ec64786b4802-c000.csv "
   ]
  },
  {
   "cell_type": "code",
   "execution_count": 11,
   "metadata": {},
   "outputs": [],
   "source": [
    "df_csv.coalesce(1).write.csv(\"../output/ratings_coalease_1.csv\", header=True)   # coalesce让每个node里只剩一个档案"
   ]
  },
  {
   "cell_type": "code",
   "execution_count": 12,
   "metadata": {},
   "outputs": [
    {
     "name": "stdout",
     "output_type": "stream",
     "text": [
      "total 4.0K\r\n",
      "-rw-r--r--. 1 root root 561 Nov  9 15:41 part-00000-98a940bf-efbc-4d4f-96d9-1c19b155d42d-c000.csv\r\n",
      "-rw-r--r--. 1 root root   0 Nov  9 15:41 _SUCCESS\r\n"
     ]
    }
   ],
   "source": [
    "!ls -lh ../output/ratings_coalease_1.csv/"
   ]
  },
  {
   "cell_type": "code",
   "execution_count": null,
   "metadata": {},
   "outputs": [],
   "source": []
  },
  {
   "cell_type": "markdown",
   "metadata": {},
   "source": [
    "## save as json"
   ]
  },
  {
   "cell_type": "code",
   "execution_count": 13,
   "metadata": {},
   "outputs": [],
   "source": [
    "df_csv.write.json(\"../output/ratings.json\", mode='overwrite')"
   ]
  },
  {
   "cell_type": "code",
   "execution_count": 14,
   "metadata": {},
   "outputs": [
    {
     "name": "stdout",
     "output_type": "stream",
     "text": [
      "part-00000-56b79bcb-79c1-48a2-a02e-0f797f9b46b6-c000.json  _SUCCESS\r\n"
     ]
    }
   ],
   "source": [
    "!ls ../output/ratings.json/"
   ]
  },
  {
   "cell_type": "code",
   "execution_count": 18,
   "metadata": {},
   "outputs": [
    {
     "name": "stdout",
     "output_type": "stream",
     "text": [
      "{\"userid\":\"3\",\"movieid\":\"6539\",\"rating\":\"5\",\"ts\":\"1133571238\"}\r\n",
      "{\"userid\":\"3\",\"movieid\":\"7153\",\"rating\":\"4\",\"ts\":\"1133571171\"}\r\n",
      "{\"userid\":\"3\",\"movieid\":\"7155\",\"rating\":\"3.5\",\"ts\":\"1164885564\"}\r\n",
      "{\"userid\":\"3\",\"movieid\":\"8529\",\"rating\":\"4\",\"ts\":\"1136075616\"}\r\n",
      "{\"userid\":\"3\",\"movieid\":\"8533\",\"rating\":\"4.5\",\"ts\":\"1136418593\"}\r\n",
      "{\"userid\":\"3\",\"movieid\":\"8783\",\"rating\":\"5\",\"ts\":\"1136075857\"}\r\n",
      "{\"userid\":\"3\",\"movieid\":\"27821\",\"rating\":\"4.5\",\"ts\":\"1136418616\"}\r\n",
      "{\"userid\":\"3\",\"movieid\":\"33750\",\"rating\":\"3.5\",\"ts\":\"1164885688\"}\r\n",
      "{\"userid\":\"3\",\"movieid\":\"33750\",\"rating\":\"3.5\",\"ts\":\"1164887688\"}\r\n",
      "{\"userid\":\"3\",\"movieid\":\"344\",\"ts\":\"844416742\"}\r\n"
     ]
    }
   ],
   "source": [
    "!head ../output/ratings.json/part-00000-56b79bcb-79c1-48a2-a02e-0f797f9b46b6-c000.json"
   ]
  },
  {
   "cell_type": "code",
   "execution_count": 19,
   "metadata": {},
   "outputs": [
    {
     "name": "stdout",
     "output_type": "stream",
     "text": [
      "total 4.0K\r\n",
      "-rw-r--r--. 1 root root 1.7K Nov  9 15:47 part-00000-56b79bcb-79c1-48a2-a02e-0f797f9b46b6-c000.json\r\n",
      "-rw-r--r--. 1 root root    0 Nov  9 15:47 _SUCCESS\r\n"
     ]
    }
   ],
   "source": [
    "!ls -lh ../output/ratings.json/"
   ]
  },
  {
   "cell_type": "code",
   "execution_count": 21,
   "metadata": {},
   "outputs": [
    {
     "name": "stdout",
     "output_type": "stream",
     "text": [
      "total 4.0K\r\n",
      "-rw-r--r--. 1 root root 561 Nov  9 15:39 part-00000-18cd677a-f297-48e9-ae27-ec64786b4802-c000.csv\r\n",
      "-rw-r--r--. 1 root root   0 Nov  9 15:39 _SUCCESS\r\n"
     ]
    }
   ],
   "source": [
    "!ls -lh ../output/ratings_1.csv/"
   ]
  },
  {
   "cell_type": "markdown",
   "metadata": {},
   "source": [
    "## save as parquet    !!Recomend"
   ]
  },
  {
   "cell_type": "code",
   "execution_count": 22,
   "metadata": {},
   "outputs": [],
   "source": [
    "df_csv.write.parquet(\"../output/ratings.parquet\", mode = 'overwrite')"
   ]
  },
  {
   "cell_type": "code",
   "execution_count": 23,
   "metadata": {},
   "outputs": [
    {
     "name": "stdout",
     "output_type": "stream",
     "text": [
      "total 4.0K\r\n",
      "-rw-r--r--. 1 root root 1.4K Nov  9 15:49 part-00000-b14d0cc3-970f-4c4a-b843-cb82dc183dee-c000.snappy.parquet\r\n",
      "-rw-r--r--. 1 root root    0 Nov  9 15:49 _SUCCESS\r\n"
     ]
    }
   ],
   "source": [
    "!ls -lh ../output/ratings.parquet/"
   ]
  },
  {
   "cell_type": "code",
   "execution_count": null,
   "metadata": {},
   "outputs": [],
   "source": []
  },
  {
   "cell_type": "markdown",
   "metadata": {},
   "source": [
    "## Compression\n",
    "bzip2, gzip, lz4, snappy and deflate"
   ]
  },
  {
   "cell_type": "code",
   "execution_count": 24,
   "metadata": {},
   "outputs": [],
   "source": [
    "df_csv.write.csv(\"../output/ratings_gzip.csv\", header=True, compression='gzip', mode='overwrite')"
   ]
  },
  {
   "cell_type": "code",
   "execution_count": 25,
   "metadata": {},
   "outputs": [
    {
     "name": "stdout",
     "output_type": "stream",
     "text": [
      "total 4.0K\r\n",
      "-rw-r--r--. 1 root root 243 Nov  9 15:49 part-00000-055ea04d-6831-4a4e-b676-7bd165a5ed87-c000.csv.gz\r\n",
      "-rw-r--r--. 1 root root   0 Nov  9 15:49 _SUCCESS\r\n"
     ]
    }
   ],
   "source": [
    "!ls -lh ../output/ratings_gzip.csv"
   ]
  },
  {
   "cell_type": "code",
   "execution_count": null,
   "metadata": {},
   "outputs": [],
   "source": []
  },
  {
   "cell_type": "markdown",
   "metadata": {},
   "source": [
    "## 存成 table"
   ]
  },
  {
   "cell_type": "code",
   "execution_count": 26,
   "metadata": {},
   "outputs": [
    {
     "name": "stdout",
     "output_type": "stream",
     "text": [
      "+--------+---------+-----------+\n",
      "|database|tableName|isTemporary|\n",
      "+--------+---------+-----------+\n",
      "+--------+---------+-----------+\n",
      "\n"
     ]
    }
   ],
   "source": [
    "spark.sql(\"show tables\").show()"
   ]
  },
  {
   "cell_type": "code",
   "execution_count": 27,
   "metadata": {},
   "outputs": [],
   "source": [
    "df_csv.write.saveAsTable('ratings_csv')"
   ]
  },
  {
   "cell_type": "code",
   "execution_count": 28,
   "metadata": {},
   "outputs": [
    {
     "name": "stdout",
     "output_type": "stream",
     "text": [
      "+--------+-----------+-----------+\n",
      "|database|  tableName|isTemporary|\n",
      "+--------+-----------+-----------+\n",
      "| default|ratings_csv|      false|\n",
      "+--------+-----------+-----------+\n",
      "\n"
     ]
    }
   ],
   "source": [
    "spark.sql(\"show tables\").show()"
   ]
  },
  {
   "cell_type": "code",
   "execution_count": 29,
   "metadata": {},
   "outputs": [
    {
     "name": "stdout",
     "output_type": "stream",
     "text": [
      "+------+-------+------+----------+\n",
      "|userid|movieid|rating|        ts|\n",
      "+------+-------+------+----------+\n",
      "|     3|   6539|     5|1133571238|\n",
      "|     3|   7153|     4|1133571171|\n",
      "|     3|   7155|   3.5|1164885564|\n",
      "|     3|   8529|     4|1136075616|\n",
      "|     3|   8533|   4.5|1136418593|\n",
      "|     3|   8783|     5|1136075857|\n",
      "|     3|  27821|   4.5|1136418616|\n",
      "|     3|  33750|   3.5|1164885688|\n",
      "|     3|  33750|   3.5|1164887688|\n",
      "|     3|    344|  null| 844416742|\n",
      "|     4|     21|     3| 844416980|\n",
      "|     4|     34|     5| 844416936|\n",
      "|     4|     39|     3| 844417037|\n",
      "|     4|    110|     5| 844416866|\n",
      "|     4|    150|     5| 844416656|\n",
      "|     4|    153|     5| 844416699|\n",
      "|     4|    161|     5| 844416835|\n",
      "|     4|    165|     5| 844416699|\n",
      "|     4|    208|     3| 844416866|\n",
      "|     4|    231|     1| 844416742|\n",
      "+------+-------+------+----------+\n",
      "only showing top 20 rows\n",
      "\n"
     ]
    }
   ],
   "source": [
    "spark.sql(\"select * from ratings_csv\").show()  # spark跟hive连接, 通过spark存取hive资源, 加快hive(因为原本的hive用的是传统的mapreduce, 每次迭代都在disk上, 因此通过spark可以加快速度 )速度 \n"
   ]
  },
  {
   "cell_type": "code",
   "execution_count": null,
   "metadata": {},
   "outputs": [],
   "source": []
  }
 ],
 "metadata": {
  "kernelspec": {
   "display_name": "Python 2",
   "language": "python",
   "name": "python2"
  },
  "language_info": {
   "codemirror_mode": {
    "name": "ipython",
    "version": 2
   },
   "file_extension": ".py",
   "mimetype": "text/x-python",
   "name": "python",
   "nbconvert_exporter": "python",
   "pygments_lexer": "ipython2",
   "version": "2.7.5"
  }
 },
 "nbformat": 4,
 "nbformat_minor": 2
}
