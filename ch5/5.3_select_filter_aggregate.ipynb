{
 "cells": [
  {
   "cell_type": "code",
   "execution_count": 1,
   "metadata": {},
   "outputs": [],
   "source": [
    "from __future__ import print_function, division\n",
    "from pyspark import SparkConf, SparkContext\n",
    "from pyspark.sql import SparkSession"
   ]
  },
  {
   "cell_type": "code",
   "execution_count": 2,
   "metadata": {},
   "outputs": [],
   "source": [
    "# 启动 Spark （如果你已经启动就不需要）\n",
    "spark = SparkSession.builder.master(\"local[2]\") \\\n",
    "   .appName(\"test\") \\\n",
    "   .enableHiveSupport() \\\n",
    "   .getOrCreate()\n",
    "\n",
    "sc = spark.sparkContext"
   ]
  },
  {
   "cell_type": "markdown",
   "metadata": {},
   "source": [
    "## 讀取資料"
   ]
  },
  {
   "cell_type": "code",
   "execution_count": 53,
   "metadata": {},
   "outputs": [
    {
     "name": "stdout",
     "output_type": "stream",
     "text": [
      "total 196M\r\n",
      "-rw-r--r--. 1 root root  188 Nov 10  2017 json_example.json\r\n",
      "-rw-r--r--. 1 root root 4.5K Dec 27  2017 kmeans_data.txt\r\n",
      "-rw-r--r--. 1 root root 196M Nov  5 16:28 NASA_access_log_Jul95\r\n",
      "-rw-r--r--. 1 root root  11K Nov 10  2017 NASA_access_log_Jul95_100\r\n",
      "-rw-r--r--. 1 root root  561 Nov 10  2017 ratings.csv\r\n",
      "-rw-r--r--. 1 root root 103K Dec 27  2017 sample_libsvm_data.txt\r\n",
      "-rw-r--r--. 1 root root 2.7K Nov 10  2017 shakespear.txt\r\n",
      "-rw-r--r--. 1 root root  28K Dec 27  2017 titanic_test.csv\r\n",
      "-rw-r--r--. 1 root root  60K Dec 27  2017 titanic_train.csv\r\n"
     ]
    }
   ],
   "source": [
    "!ls -lh ../data"
   ]
  },
  {
   "cell_type": "code",
   "execution_count": 3,
   "metadata": {},
   "outputs": [],
   "source": [
    "df = spark.read.csv('../data/ratings.csv', header=True)"
   ]
  },
  {
   "cell_type": "code",
   "execution_count": 4,
   "metadata": {},
   "outputs": [
    {
     "name": "stdout",
     "output_type": "stream",
     "text": [
      "+------+-------+------+----------+\n",
      "|userid|movieid|rating|        ts|\n",
      "+------+-------+------+----------+\n",
      "|     3|   6539|     5|1133571238|\n",
      "|     3|   7153|     4|1133571171|\n",
      "|     3|   7155|   3.5|1164885564|\n",
      "|     3|   8529|     4|1136075616|\n",
      "|     3|   8533|   4.5|1136418593|\n",
      "|     3|   8783|     5|1136075857|\n",
      "|     3|  27821|   4.5|1136418616|\n",
      "|     3|  33750|   3.5|1164885688|\n",
      "|     3|  33750|   3.5|1164887688|\n",
      "|     3|    344|  null| 844416742|\n",
      "|     4|     21|     3| 844416980|\n",
      "|     4|     34|     5| 844416936|\n",
      "|     4|     39|     3| 844417037|\n",
      "|     4|    110|     5| 844416866|\n",
      "|     4|    150|     5| 844416656|\n",
      "|     4|    153|     5| 844416699|\n",
      "|     4|    161|     5| 844416835|\n",
      "|     4|    165|     5| 844416699|\n",
      "|     4|    208|     3| 844416866|\n",
      "|     4|    231|     1| 844416742|\n",
      "+------+-------+------+----------+\n",
      "only showing top 20 rows\n",
      "\n"
     ]
    }
   ],
   "source": [
    "df.show()"
   ]
  },
  {
   "cell_type": "markdown",
   "metadata": {},
   "source": [
    "## 选择栏位"
   ]
  },
  {
   "cell_type": "code",
   "execution_count": 5,
   "metadata": {},
   "outputs": [],
   "source": [
    "## select userID from data"
   ]
  },
  {
   "cell_type": "code",
   "execution_count": 6,
   "metadata": {},
   "outputs": [
    {
     "name": "stdout",
     "output_type": "stream",
     "text": [
      "+------+\n",
      "|userID|\n",
      "+------+\n",
      "|     3|\n",
      "|     3|\n",
      "|     3|\n",
      "|     3|\n",
      "|     3|\n",
      "|     3|\n",
      "|     3|\n",
      "|     3|\n",
      "|     3|\n",
      "|     3|\n",
      "|     4|\n",
      "|     4|\n",
      "|     4|\n",
      "|     4|\n",
      "|     4|\n",
      "|     4|\n",
      "|     4|\n",
      "|     4|\n",
      "|     4|\n",
      "|     4|\n",
      "+------+\n",
      "only showing top 20 rows\n",
      "\n"
     ]
    }
   ],
   "source": [
    "df.select(\"userID\").show()"
   ]
  },
  {
   "cell_type": "code",
   "execution_count": 7,
   "metadata": {},
   "outputs": [],
   "source": [
    "## select userID , movieID from data"
   ]
  },
  {
   "cell_type": "code",
   "execution_count": 8,
   "metadata": {},
   "outputs": [
    {
     "name": "stdout",
     "output_type": "stream",
     "text": [
      "+------+-------+\n",
      "|userID|movieID|\n",
      "+------+-------+\n",
      "|     3|   6539|\n",
      "|     3|   7153|\n",
      "|     3|   7155|\n",
      "|     3|   8529|\n",
      "|     3|   8533|\n",
      "|     3|   8783|\n",
      "|     3|  27821|\n",
      "|     3|  33750|\n",
      "|     3|  33750|\n",
      "|     3|    344|\n",
      "|     4|     21|\n",
      "|     4|     34|\n",
      "|     4|     39|\n",
      "|     4|    110|\n",
      "|     4|    150|\n",
      "|     4|    153|\n",
      "|     4|    161|\n",
      "|     4|    165|\n",
      "|     4|    208|\n",
      "|     4|    231|\n",
      "+------+-------+\n",
      "only showing top 20 rows\n",
      "\n"
     ]
    }
   ],
   "source": [
    "df.select(\"userID\", \"movieID\").show()"
   ]
  },
  {
   "cell_type": "markdown",
   "metadata": {},
   "source": [
    "## 操作栏位"
   ]
  },
  {
   "cell_type": "code",
   "execution_count": 9,
   "metadata": {},
   "outputs": [],
   "source": [
    "## select userID as id from data"
   ]
  },
  {
   "cell_type": "code",
   "execution_count": 30,
   "metadata": {},
   "outputs": [
    {
     "name": "stdout",
     "output_type": "stream",
     "text": [
      "+---+\n",
      "| id|\n",
      "+---+\n",
      "|  3|\n",
      "|  3|\n",
      "|  3|\n",
      "|  3|\n",
      "|  3|\n",
      "|  3|\n",
      "|  3|\n",
      "|  3|\n",
      "|  3|\n",
      "|  3|\n",
      "|  4|\n",
      "|  4|\n",
      "|  4|\n",
      "|  4|\n",
      "|  4|\n",
      "|  4|\n",
      "|  4|\n",
      "|  4|\n",
      "|  4|\n",
      "|  4|\n",
      "+---+\n",
      "only showing top 20 rows\n",
      "\n"
     ]
    }
   ],
   "source": [
    "df.selectExpr(\"userID as id\").show()  # 当用Expr的时候, 里面的语句跟sql是一样的"
   ]
  },
  {
   "cell_type": "code",
   "execution_count": 31,
   "metadata": {},
   "outputs": [],
   "source": [
    "## select movieID, rating * 2 as rating_2"
   ]
  },
  {
   "cell_type": "code",
   "execution_count": 32,
   "metadata": {},
   "outputs": [
    {
     "name": "stdout",
     "output_type": "stream",
     "text": [
      "+-------+--------+\n",
      "|movieID|rating_2|\n",
      "+-------+--------+\n",
      "|   6539|    10.0|\n",
      "|   7153|     8.0|\n",
      "|   7155|     7.0|\n",
      "|   8529|     8.0|\n",
      "|   8533|     9.0|\n",
      "|   8783|    10.0|\n",
      "|  27821|     9.0|\n",
      "|  33750|     7.0|\n",
      "|  33750|     7.0|\n",
      "|    344|    null|\n",
      "|     21|     6.0|\n",
      "|     34|    10.0|\n",
      "|     39|     6.0|\n",
      "|    110|    10.0|\n",
      "|    150|    10.0|\n",
      "|    153|    10.0|\n",
      "|    161|    10.0|\n",
      "|    165|    10.0|\n",
      "|    208|     6.0|\n",
      "|    231|     2.0|\n",
      "+-------+--------+\n",
      "only showing top 20 rows\n",
      "\n"
     ]
    }
   ],
   "source": [
    "df.selectExpr(\"movieID\", \"rating * 2 as rating_2\").show()"
   ]
  },
  {
   "cell_type": "code",
   "execution_count": 33,
   "metadata": {},
   "outputs": [
    {
     "name": "stdout",
     "output_type": "stream",
     "text": [
      "root\n",
      " |-- userid: string (nullable = true)\n",
      " |-- movieid: string (nullable = true)\n",
      " |-- rating: string (nullable = true)\n",
      " |-- ts: string (nullable = true)\n",
      "\n"
     ]
    }
   ],
   "source": [
    "df.printSchema()"
   ]
  },
  {
   "cell_type": "code",
   "execution_count": 34,
   "metadata": {},
   "outputs": [
    {
     "name": "stdout",
     "output_type": "stream",
     "text": [
      "root\n",
      " |-- rating: double (nullable = true)\n",
      "\n"
     ]
    }
   ],
   "source": [
    "df.selectExpr(\"cast(rating as DOUBLE)\").printSchema()  #转换类别"
   ]
  },
  {
   "cell_type": "markdown",
   "metadata": {},
   "source": [
    "## 筛选"
   ]
  },
  {
   "cell_type": "code",
   "execution_count": 35,
   "metadata": {},
   "outputs": [],
   "source": [
    "# select * from data where rating > 3"
   ]
  },
  {
   "cell_type": "code",
   "execution_count": 36,
   "metadata": {},
   "outputs": [
    {
     "name": "stdout",
     "output_type": "stream",
     "text": [
      "+------+-------+------+----------+\n",
      "|userid|movieid|rating|        ts|\n",
      "+------+-------+------+----------+\n",
      "|     3|   6539|     5|1133571238|\n",
      "|     3|   7153|     4|1133571171|\n",
      "|     3|   8529|     4|1136075616|\n",
      "|     3|   8533|   4.5|1136418593|\n",
      "|     3|   8783|     5|1136075857|\n",
      "|     3|  27821|   4.5|1136418616|\n",
      "|     4|     34|     5| 844416936|\n",
      "|     4|    110|     5| 844416866|\n",
      "|     4|    150|     5| 844416656|\n",
      "|     4|    153|     5| 844416699|\n",
      "|     4|    161|     5| 844416835|\n",
      "|     4|    165|     5| 844416699|\n",
      "|     4|    266|     5| 844417070|\n",
      "|     4|    316|     5| 844416742|\n",
      "|     4|    317|     5| 844417037|\n",
      "|     4|    329|     5| 844416796|\n",
      "+------+-------+------+----------+\n",
      "\n"
     ]
    }
   ],
   "source": [
    "df.filter(\"rating > 3\").show()"
   ]
  },
  {
   "cell_type": "code",
   "execution_count": 22,
   "metadata": {},
   "outputs": [],
   "source": [
    "# select * from data where userID = 3 and rating >3"
   ]
  },
  {
   "cell_type": "code",
   "execution_count": 46,
   "metadata": {},
   "outputs": [
    {
     "name": "stdout",
     "output_type": "stream",
     "text": [
      "+------+-------+------+----------+\n",
      "|userid|movieid|rating|        ts|\n",
      "+------+-------+------+----------+\n",
      "|     3|   6539|     5|1133571238|\n",
      "|     3|   7153|     4|1133571171|\n",
      "|     3|   8529|     4|1136075616|\n",
      "|     3|   8533|   4.5|1136418593|\n",
      "|     3|   8783|     5|1136075857|\n",
      "|     3|  27821|   4.5|1136418616|\n",
      "+------+-------+------+----------+\n",
      "\n"
     ]
    }
   ],
   "source": [
    "df.filter(\"userid = 3 and rating > 3\").show()"
   ]
  },
  {
   "cell_type": "code",
   "execution_count": 25,
   "metadata": {},
   "outputs": [],
   "source": [
    "# select userID, rating from data where userId = 3 and rating > 3"
   ]
  },
  {
   "cell_type": "code",
   "execution_count": 47,
   "metadata": {},
   "outputs": [
    {
     "name": "stdout",
     "output_type": "stream",
     "text": [
      "+------+------+\n",
      "|userID|rating|\n",
      "+------+------+\n",
      "|     3|     5|\n",
      "|     3|     4|\n",
      "|     3|     4|\n",
      "|     3|   4.5|\n",
      "|     3|     5|\n",
      "|     3|   4.5|\n",
      "+------+------+\n",
      "\n"
     ]
    }
   ],
   "source": [
    "df.filter(\"userID = 3 and rating > 3\").select(\"userID\", \"rating\").show()"
   ]
  },
  {
   "cell_type": "code",
   "execution_count": 48,
   "metadata": {},
   "outputs": [
    {
     "name": "stdout",
     "output_type": "stream",
     "text": [
      "+------+------+\n",
      "|userID|rating|\n",
      "+------+------+\n",
      "|     3|     5|\n",
      "|     3|     4|\n",
      "|     3|     4|\n",
      "|     3|   4.5|\n",
      "|     3|     5|\n",
      "|     3|   4.5|\n",
      "+------+------+\n",
      "\n"
     ]
    }
   ],
   "source": [
    "df.select(\"userID\", \"rating\").filter(\"userID = 3 and rating > 3\").show()"
   ]
  },
  {
   "cell_type": "code",
   "execution_count": 63,
   "metadata": {},
   "outputs": [
    {
     "name": "stdout",
     "output_type": "stream",
     "text": [
      "+------+-------+------+---------+\n",
      "|userid|movieid|rating|       ts|\n",
      "+------+-------+------+---------+\n",
      "|     4|     21|     3|844416980|\n",
      "|     4|     34|     5|844416936|\n",
      "|     4|     39|     3|844417037|\n",
      "|     4|    110|     5|844416866|\n",
      "|     4|    150|     5|844416656|\n",
      "|     4|    153|     5|844416699|\n",
      "|     4|    161|     5|844416835|\n",
      "|     4|    165|     5|844416699|\n",
      "|     4|    208|     3|844416866|\n",
      "|     4|    231|     1|844416742|\n",
      "|     4|    253|     3|844416834|\n",
      "|     4|    266|     5|844417070|\n",
      "|     4|    292|     3|844416796|\n",
      "|     4|    316|     5|844416742|\n",
      "|     4|    317|     5|844417037|\n",
      "|     4|    329|     5|844416796|\n",
      "|     4|    344|     2|844416699|\n",
      "|     4|    349|     3|844416699|\n",
      "|     4|   null|  null|     null|\n",
      "+------+-------+------+---------+\n",
      "\n"
     ]
    }
   ],
   "source": [
    "df.filter(\"userid != 3 \").show()"
   ]
  },
  {
   "cell_type": "markdown",
   "metadata": {},
   "source": [
    "## 聚合运算"
   ]
  },
  {
   "cell_type": "code",
   "execution_count": 49,
   "metadata": {},
   "outputs": [],
   "source": [
    "# select count(*) from data"
   ]
  },
  {
   "cell_type": "code",
   "execution_count": 50,
   "metadata": {},
   "outputs": [
    {
     "data": {
      "text/plain": [
       "29"
      ]
     },
     "execution_count": 50,
     "metadata": {},
     "output_type": "execute_result"
    }
   ],
   "source": [
    "df.count()"
   ]
  },
  {
   "cell_type": "code",
   "execution_count": 51,
   "metadata": {},
   "outputs": [
    {
     "name": "stdout",
     "output_type": "stream",
     "text": [
      "+-------------+\n",
      "|count(userID)|\n",
      "+-------------+\n",
      "|           29|\n",
      "+-------------+\n",
      "\n"
     ]
    }
   ],
   "source": [
    "df.agg({'userID': 'count'}).show()"
   ]
  },
  {
   "cell_type": "code",
   "execution_count": 54,
   "metadata": {},
   "outputs": [],
   "source": [
    "# select count(*) from data where userID =1"
   ]
  },
  {
   "cell_type": "code",
   "execution_count": 56,
   "metadata": {},
   "outputs": [
    {
     "data": {
      "text/plain": [
       "10"
      ]
     },
     "execution_count": 56,
     "metadata": {},
     "output_type": "execute_result"
    }
   ],
   "source": [
    "df.filter(\"userID = 3\").count()"
   ]
  },
  {
   "cell_type": "code",
   "execution_count": 57,
   "metadata": {},
   "outputs": [],
   "source": [
    "# select count(userID) from data, select avg(rating) from data "
   ]
  },
  {
   "cell_type": "code",
   "execution_count": 58,
   "metadata": {},
   "outputs": [
    {
     "name": "stdout",
     "output_type": "stream",
     "text": [
      "+-----------------+-------------+\n",
      "|      avg(rating)|count(userID)|\n",
      "+-----------------+-------------+\n",
      "|4.018518518518518|           29|\n",
      "+-----------------+-------------+\n",
      "\n"
     ]
    }
   ],
   "source": [
    "df.agg({'userID': 'count', 'rating': 'avg'}).show()"
   ]
  },
  {
   "cell_type": "markdown",
   "metadata": {},
   "source": [
    "## Group By"
   ]
  },
  {
   "cell_type": "code",
   "execution_count": 59,
   "metadata": {},
   "outputs": [],
   "source": [
    "# 计算每个user 评比了多少部电影，平均分数为何?"
   ]
  },
  {
   "cell_type": "markdown",
   "metadata": {},
   "source": [
    "select userID, count(*), avg(rating)\n",
    "from data\n",
    "group userID"
   ]
  },
  {
   "cell_type": "code",
   "execution_count": 64,
   "metadata": {},
   "outputs": [
    {
     "name": "stdout",
     "output_type": "stream",
     "text": [
      "+------+------------------+--------------+\n",
      "|userID|       avg(rating)|count(movieID)|\n",
      "+------+------------------+--------------+\n",
      "|     3| 4.166666666666667|            10|\n",
      "|     4|3.9444444444444446|            18|\n",
      "+------+------------------+--------------+\n",
      "\n"
     ]
    }
   ],
   "source": [
    "df.groupBy('userID').agg({'movieID': 'count', 'rating':'avg'}).show()  #要先groupby才能做aggregation"
   ]
  },
  {
   "cell_type": "code",
   "execution_count": 65,
   "metadata": {},
   "outputs": [
    {
     "name": "stdout",
     "output_type": "stream",
     "text": [
      "+------+--------------+---------------------+\n",
      "|userID|count(movieID)|round(avg(rating), 2)|\n",
      "+------+--------------+---------------------+\n",
      "|     3|            10|                 4.17|\n",
      "|     4|            18|                 3.94|\n",
      "+------+--------------+---------------------+\n",
      "\n"
     ]
    }
   ],
   "source": [
    "from pyspark.sql.functions import *\n",
    "df.groupBy('userID').agg(count('movieID'), round(avg(df.rating),2)).show()"
   ]
  },
  {
   "cell_type": "markdown",
   "metadata": {},
   "source": [
    "## Join tables"
   ]
  },
  {
   "cell_type": "markdown",
   "metadata": {},
   "source": [
    "![sql](http://4.bp.blogspot.com/-_HsHikmChBI/VmQGJjLKgyI/AAAAAAAAEPw/JaLnV0bsbEo/s1600/sql%2Bjoins%2Bguide%2Band%2Bsyntax.jpg)"
   ]
  },
  {
   "cell_type": "code",
   "execution_count": 66,
   "metadata": {},
   "outputs": [
    {
     "name": "stderr",
     "output_type": "stream",
     "text": [
      "/usr/local/spark/python/pyspark/sql/session.py:340: UserWarning: inferring schema from dict is deprecated,please use pyspark.sql.Row instead\n",
      "  warnings.warn(\"inferring schema from dict is deprecated,\"\n"
     ]
    },
    {
     "name": "stdout",
     "output_type": "stream",
     "text": [
      "+---+-----+\n",
      "|age| name|\n",
      "+---+-----+\n",
      "|  1|Alice|\n",
      "|  3|Bryan|\n",
      "|  2| Cool|\n",
      "+---+-----+\n",
      "\n"
     ]
    }
   ],
   "source": [
    "d = [{'name': 'Alice', 'age': 1}, {'name': 'Bryan', 'age': 3}, {'name': 'Cool', 'age':2}]\n",
    "df_profile = spark.createDataFrame(d)\n",
    "df_profile.show()"
   ]
  },
  {
   "cell_type": "code",
   "execution_count": 67,
   "metadata": {},
   "outputs": [
    {
     "name": "stdout",
     "output_type": "stream",
     "text": [
      "+-----+-----+\n",
      "|child| name|\n",
      "+-----+-----+\n",
      "|Alice|Jason|\n",
      "|Bryan| Bill|\n",
      "|Bryan| Sera|\n",
      "|  Ken| Jill|\n",
      "+-----+-----+\n",
      "\n"
     ]
    }
   ],
   "source": [
    "d = [{'name': 'Jason', 'child': 'Alice'}, \n",
    "     {'name': 'Bill', 'child': 'Bryan'}, \n",
    "     {'name': 'Sera', 'child': 'Bryan'}, \n",
    "     {'name': 'Jill', 'child': 'Ken'}]\n",
    "df_parents = spark.createDataFrame(d)\n",
    "df_parents.show()"
   ]
  },
  {
   "cell_type": "code",
   "execution_count": null,
   "metadata": {},
   "outputs": [],
   "source": []
  },
  {
   "cell_type": "markdown",
   "metadata": {},
   "source": []
  },
  {
   "cell_type": "code",
   "execution_count": 61,
   "metadata": {},
   "outputs": [
    {
     "name": "stdout",
     "output_type": "stream",
     "text": [
      "+---+-----+-----+-----+\n",
      "|age| name|child| name|\n",
      "+---+-----+-----+-----+\n",
      "|  1|Alice|Alice|Jason|\n",
      "|  3|Bryan|Bryan| Bill|\n",
      "|  3|Bryan|Bryan| Sera|\n",
      "+---+-----+-----+-----+\n",
      "\n"
     ]
    }
   ],
   "source": [
    "df_profile.join(df_parents, df_profile.name == df_parents.child).show() #inner join"
   ]
  },
  {
   "cell_type": "code",
   "execution_count": 68,
   "metadata": {},
   "outputs": [
    {
     "name": "stdout",
     "output_type": "stream",
     "text": [
      "+---+-----+-----+-----+\n",
      "|age| name|child| name|\n",
      "+---+-----+-----+-----+\n",
      "|  2| Cool| null| null|\n",
      "|  1|Alice|Alice|Jason|\n",
      "|  3|Bryan|Bryan| Bill|\n",
      "|  3|Bryan|Bryan| Sera|\n",
      "+---+-----+-----+-----+\n",
      "\n"
     ]
    }
   ],
   "source": [
    "df_profile.join(df_parents, df_profile.name == df_parents.child, 'left').show()  # leftjoin"
   ]
  },
  {
   "cell_type": "code",
   "execution_count": 69,
   "metadata": {},
   "outputs": [
    {
     "name": "stdout",
     "output_type": "stream",
     "text": [
      "+----+-----+-----+-----+\n",
      "| age| name|child| name|\n",
      "+----+-----+-----+-----+\n",
      "|   1|Alice|Alice|Jason|\n",
      "|null| null|  Ken| Jill|\n",
      "|   3|Bryan|Bryan| Bill|\n",
      "|   3|Bryan|Bryan| Sera|\n",
      "+----+-----+-----+-----+\n",
      "\n"
     ]
    }
   ],
   "source": [
    "df_profile.join(df_parents, df_profile.name == df_parents.child, 'right').show()  #rightjoin"
   ]
  },
  {
   "cell_type": "code",
   "execution_count": 70,
   "metadata": {},
   "outputs": [
    {
     "name": "stdout",
     "output_type": "stream",
     "text": [
      "+----+-----+-----+-----+\n",
      "| age| name|child| name|\n",
      "+----+-----+-----+-----+\n",
      "|   2| Cool| null| null|\n",
      "|   1|Alice|Alice|Jason|\n",
      "|null| null|  Ken| Jill|\n",
      "|   3|Bryan|Bryan| Bill|\n",
      "|   3|Bryan|Bryan| Sera|\n",
      "+----+-----+-----+-----+\n",
      "\n"
     ]
    }
   ],
   "source": [
    "df_profile.join(df_parents, df_profile.name == df_parents.child, 'outer').show()  #outerjoin"
   ]
  },
  {
   "cell_type": "markdown",
   "metadata": {},
   "source": [
    "## 注册为 SQL 表"
   ]
  },
  {
   "cell_type": "code",
   "execution_count": 71,
   "metadata": {},
   "outputs": [],
   "source": [
    "df.registerTempTable(\"table\")"
   ]
  },
  {
   "cell_type": "code",
   "execution_count": 72,
   "metadata": {},
   "outputs": [
    {
     "name": "stdout",
     "output_type": "stream",
     "text": [
      "+--------+---------+-----------+\n",
      "|database|tableName|isTemporary|\n",
      "+--------+---------+-----------+\n",
      "|        |    table|       true|\n",
      "+--------+---------+-----------+\n",
      "\n"
     ]
    }
   ],
   "source": [
    "spark.sql(\"show tables\").show()"
   ]
  },
  {
   "cell_type": "code",
   "execution_count": 73,
   "metadata": {},
   "outputs": [
    {
     "name": "stdout",
     "output_type": "stream",
     "text": [
      "+------+-------+------+----------+\n",
      "|userid|movieid|rating|        ts|\n",
      "+------+-------+------+----------+\n",
      "|     3|   6539|     5|1133571238|\n",
      "|     3|   7153|     4|1133571171|\n",
      "|     3|   7155|   3.5|1164885564|\n",
      "|     3|   8529|     4|1136075616|\n",
      "|     3|   8533|   4.5|1136418593|\n",
      "|     3|   8783|     5|1136075857|\n",
      "|     3|  27821|   4.5|1136418616|\n",
      "|     3|  33750|   3.5|1164885688|\n",
      "|     3|  33750|   3.5|1164887688|\n",
      "|     3|    344|  null| 844416742|\n",
      "+------+-------+------+----------+\n",
      "\n"
     ]
    }
   ],
   "source": [
    "spark.sql(\"select * from table limit 10\").show()"
   ]
  },
  {
   "cell_type": "code",
   "execution_count": 74,
   "metadata": {},
   "outputs": [],
   "source": [
    "def run_sql(sql_string):\n",
    "    spark.sql(sql_string).show()"
   ]
  },
  {
   "cell_type": "code",
   "execution_count": 75,
   "metadata": {},
   "outputs": [
    {
     "name": "stdout",
     "output_type": "stream",
     "text": [
      "+------+-------+------+----------+\n",
      "|userid|movieid|rating|        ts|\n",
      "+------+-------+------+----------+\n",
      "|     3|   6539|     5|1133571238|\n",
      "|     3|   7153|     4|1133571171|\n",
      "|     3|   7155|   3.5|1164885564|\n",
      "|     3|   8529|     4|1136075616|\n",
      "|     3|   8533|   4.5|1136418593|\n",
      "|     3|   8783|     5|1136075857|\n",
      "|     3|  27821|   4.5|1136418616|\n",
      "|     3|  33750|   3.5|1164885688|\n",
      "|     3|  33750|   3.5|1164887688|\n",
      "|     3|    344|  null| 844416742|\n",
      "|     4|     21|     3| 844416980|\n",
      "|     4|     34|     5| 844416936|\n",
      "|     4|     39|     3| 844417037|\n",
      "|     4|    110|     5| 844416866|\n",
      "|     4|    150|     5| 844416656|\n",
      "|     4|    153|     5| 844416699|\n",
      "|     4|    161|     5| 844416835|\n",
      "|     4|    165|     5| 844416699|\n",
      "|     4|    208|     3| 844416866|\n",
      "|     4|    231|     1| 844416742|\n",
      "+------+-------+------+----------+\n",
      "only showing top 20 rows\n",
      "\n"
     ]
    }
   ],
   "source": [
    "sql_string = \"\"\"\n",
    "select * \n",
    "from table\n",
    "\"\"\"\n",
    "run_sql(sql_string)"
   ]
  },
  {
   "cell_type": "code",
   "execution_count": 76,
   "metadata": {},
   "outputs": [
    {
     "name": "stdout",
     "output_type": "stream",
     "text": [
      "+---+\n",
      "| id|\n",
      "+---+\n",
      "|  3|\n",
      "|  3|\n",
      "|  3|\n",
      "|  3|\n",
      "|  3|\n",
      "|  3|\n",
      "|  3|\n",
      "|  3|\n",
      "|  3|\n",
      "|  3|\n",
      "|  4|\n",
      "|  4|\n",
      "|  4|\n",
      "|  4|\n",
      "|  4|\n",
      "|  4|\n",
      "|  4|\n",
      "|  4|\n",
      "|  4|\n",
      "|  4|\n",
      "+---+\n",
      "only showing top 20 rows\n",
      "\n"
     ]
    }
   ],
   "source": [
    "sql_string = \"\"\"\n",
    "select userid as id \n",
    "from table\n",
    "\"\"\"\n",
    "run_sql(sql_string)"
   ]
  },
  {
   "cell_type": "code",
   "execution_count": 77,
   "metadata": {},
   "outputs": [
    {
     "name": "stdout",
     "output_type": "stream",
     "text": [
      "+------+--------+\n",
      "|userID|count(1)|\n",
      "+------+--------+\n",
      "|     3|      10|\n",
      "|     4|      19|\n",
      "+------+--------+\n",
      "\n"
     ]
    }
   ],
   "source": [
    "sql_string = \"\"\"\n",
    "select userID, count(*)\n",
    "from table\n",
    "group by userID\n",
    "\"\"\"\n",
    "run_sql(sql_string)"
   ]
  },
  {
   "cell_type": "code",
   "execution_count": null,
   "metadata": {},
   "outputs": [],
   "source": []
  }
 ],
 "metadata": {
  "kernelspec": {
   "display_name": "Python 2",
   "language": "python",
   "name": "python2"
  },
  "language_info": {
   "codemirror_mode": {
    "name": "ipython",
    "version": 2
   },
   "file_extension": ".py",
   "mimetype": "text/x-python",
   "name": "python",
   "nbconvert_exporter": "python",
   "pygments_lexer": "ipython2",
   "version": "2.7.5"
  }
 },
 "nbformat": 4,
 "nbformat_minor": 2
}
